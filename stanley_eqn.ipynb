{
 "cells": [
  {
   "cell_type": "code",
   "execution_count": 8,
   "id": "settled-middle",
   "metadata": {},
   "outputs": [],
   "source": [
    "import xarray as xr\n",
    "from xgcm import Grid\n",
    "import matplotlib.pyplot as plt\n",
    "import cartopy\n",
    "import cartopy\n",
    "import cartopy.crs as ccrs\n",
    "import cartopy.feature as cfeature\n",
    "from cartopy.mpl.ticker import LongitudeFormatter, LatitudeFormatter\n",
    "from cartopy.mpl.gridliner import LONGITUDE_FORMATTER, LATITUDE_FORMATTER\n",
    "import numpy as np\n",
    "import cmocean.cm as cmo\n",
    "%matplotlib inline"
   ]
  },
  {
   "cell_type": "code",
   "execution_count": 9,
   "id": "binary-framework",
   "metadata": {},
   "outputs": [],
   "source": [
    "chunks = {'ocean_time':1}\n",
    "\n",
    "ds = xr.open_dataset('../../outer_avg_01461.nc', chunks=chunks)"
   ]
  },
  {
   "cell_type": "markdown",
   "id": "objective-modem",
   "metadata": {},
   "source": [
    "## Creating a grid object"
   ]
  },
  {
   "cell_type": "code",
   "execution_count": 10,
   "id": "mysterious-uncle",
   "metadata": {},
   "outputs": [],
   "source": [
    "# Including metrics\n",
    "ds = ds.rename({'eta_u': 'eta_rho', 'xi_v': 'xi_rho', 'xi_psi': 'xi_u', 'eta_psi': 'eta_v'})\n",
    "\n",
    "coords={'X':{'center':'xi_rho', 'inner':'xi_u'}, \n",
    "    'Y':{'center':'eta_rho', 'inner':'eta_v'}, \n",
    "    'Z':{'center':'s_rho', 'outer':'s_w'}}\n",
    "\n",
    "grid = Grid(ds, coords=coords, periodic=[])\n",
    "\n",
    "Zo_rho = (ds.hc * ds.s_rho + ds.Cs_r * ds.h) / (ds.hc + ds.h)\n",
    "z_rho = Zo_rho * (ds.zeta + ds.h) + ds.zeta\n",
    "Zo_w = (ds.hc * ds.s_w + ds.Cs_w * ds.h) / (ds.hc + ds.h)\n",
    "z_w = Zo_w * (ds.zeta + ds.h) + ds.zeta\n",
    "\n",
    "ds.coords['z_w'] = z_w.where(ds.mask_rho, 0).transpose('ocean_time', 's_w', 'eta_rho', 'xi_rho')\n",
    "ds.coords['z_rho'] = z_rho.where(ds.mask_rho, 0).transpose('ocean_time', 's_rho', 'eta_rho', 'xi_rho')\n",
    "\n",
    "\n",
    "ds['pm_v'] = grid.interp(ds.pm, 'Y')\n",
    "ds['pn_u'] = grid.interp(ds.pn, 'X')\n",
    "ds['pm_u'] = grid.interp(ds.pm, 'X')\n",
    "ds['pn_v'] = grid.interp(ds.pn, 'Y')\n",
    "ds['pm_psi'] = grid.interp(grid.interp(ds.pm, 'Y'),  'X') # at psi points (eta_v, xi_u) \n",
    "ds['pn_psi'] = grid.interp(grid.interp(ds.pn, 'X'),  'Y') # at psi points (eta_v, xi_u)\n",
    "\n",
    "ds['dx'] = 1/ds.pm\n",
    "ds['dx_u'] = 1/ds.pm_u\n",
    "ds['dx_v'] = 1/ds.pm_v\n",
    "ds['dx_psi'] = 1/ds.pm_psi\n",
    "\n",
    "ds['dy'] = 1/ds.pn\n",
    "ds['dy_u'] = 1/ds.pn_u\n",
    "ds['dy_v'] = 1/ds.pn_v\n",
    "ds['dy_psi'] = 1/ds.pn_psi\n",
    "\n",
    "ds['dz'] = grid.diff(ds.z_w, 'Z', boundary='fill')\n",
    "ds['dz_w'] = grid.diff(ds.z_rho, 'Z', boundary='fill')\n",
    "ds['dz_u'] = grid.interp(ds.dz, 'X')\n",
    "ds['dz_w_u'] = grid.interp(ds.dz_w, 'X')\n",
    "ds['dz_v'] = grid.interp(ds.dz, 'Y')\n",
    "ds['dz_w_v'] = grid.interp(ds.dz_w, 'Y')\n",
    "\n",
    "ds['dA'] = ds.dx * ds.dy\n",
    "\n",
    "metrics = {\n",
    "    ('X',): ['dx', 'dx_u', 'dx_v', 'dx_psi'], # X distances\n",
    "    ('Y',): ['dy', 'dy_u', 'dy_v', 'dy_psi'], # Y distances\n",
    "    ('Z',): ['dz', 'dz_u', 'dz_v', 'dz_w', 'dz_w_u', 'dz_w_v'], # Z distances\n",
    "    ('X', 'Y'): ['dA'] # Areas\n",
    "}\n",
    "grid = Grid(ds, coords=coords, metrics=metrics, periodic=[])"
   ]
  },
  {
   "cell_type": "code",
   "execution_count": null,
   "id": "geological-litigation",
   "metadata": {},
   "outputs": [],
   "source": []
  }
 ],
 "metadata": {
  "kernelspec": {
   "display_name": "Python 3",
   "language": "python",
   "name": "python3"
  },
  "language_info": {
   "codemirror_mode": {
    "name": "ipython",
    "version": 3
   },
   "file_extension": ".py",
   "mimetype": "text/x-python",
   "name": "python",
   "nbconvert_exporter": "python",
   "pygments_lexer": "ipython3",
   "version": "3.8.6"
  }
 },
 "nbformat": 4,
 "nbformat_minor": 5
}
