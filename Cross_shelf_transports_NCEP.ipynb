{
 "cells": [
  {
   "cell_type": "code",
   "execution_count": null,
   "metadata": {},
   "outputs": [],
   "source": [
    "import xarray as xr\n",
    "import xgcm\n",
    "from eofs.xarray import Eof\n",
    "import numpy as np\n",
    "import xroms\n",
    "import pandas as pd\n",
    "import seaborn as sns\n",
    "import matplotlib.pyplot as plt\n",
    "import cartopy.crs as ccrs\n",
    "import cartopy.feature as cfeature\n",
    "import cmocean\n",
    "from glob import glob\n",
    "from cartopy.mpl.gridliner import LONGITUDE_FORMATTER, LATITUDE_FORMATTER\n",
    "\n",
    "%matplotlib inline"
   ]
  },
  {
   "cell_type": "code",
   "execution_count": 2,
   "metadata": {},
   "outputs": [],
   "source": [
    "# Define map plotting function\n",
    "'''xxx'''\n",
    "def PlotMap(x1, x2, y1, y2):    \n",
    "    coast = cfeature.NaturalEarthFeature(category='physical', scale='10m',\n",
    "                            facecolor='none', name='coastline')\n",
    "    roi = [y1, y2, x2, x1]\n",
    "    ax2 = plt.axes(projection=ccrs.PlateCarree())\n",
    "    feature = ax2.add_feature(coast, edgecolor='black',facecolor='gray')\n",
    "    ax2.set_extent(roi)\n",
    "    gl = ax2.gridlines(draw_labels=True,\n",
    "             color='black', alpha=0.2, linestyle='--')\n",
    "    gl.xformatter = LONGITUDE_FORMATTER\n",
    "    gl.yformatter = LATITUDE_FORMATTER\n",
    "    gl.ylabels_right = False\n",
    "    gl.xlabels_top = False"
   ]
  },
  {
   "cell_type": "code",
   "execution_count": 3,
   "metadata": {},
   "outputs": [],
   "source": [
    "files = glob('/srv/scratch/z3097808/20year_run/20year_freerun_output_NEWnci/outer_avg_*.nc')\n",
    "# A basic chunk choice\n",
    "chunks = {'ocean_time':10}\n",
    "\n",
    "ds = xroms.open_mfnetcdf(files, chunks=chunks)"
   ]
  },
  {
   "cell_type": "markdown",
   "metadata": {},
   "source": [
    "## calculate EOFs of SSH"
   ]
  },
  {
   "cell_type": "code",
   "execution_count": null,
   "metadata": {},
   "outputs": [],
   "source": [
    "ssh = xr.open_dataset('/srv/scratch/z3526974/EAC_22yr/dipole_work/EAC_roms_22yr_SSH.nc')"
   ]
  },
  {
   "cell_type": "code",
   "execution_count": null,
   "metadata": {},
   "outputs": [],
   "source": [
    "ssh"
   ]
  },
  {
   "cell_type": "code",
   "execution_count": null,
   "metadata": {},
   "outputs": [],
   "source": [
    "# Set up solver (need to give it the right coordinates and variables to  match the dataset)\n",
    "coslat = np.cos(np.deg2rad(ds.coords['lat_rho'].values))\n",
    "wgts = np.sqrt(coslat)[..., np.newaxis]\n",
    "solver = Eof(ssh.zeta)#, weights=wgts)"
   ]
  },
  {
   "cell_type": "code",
   "execution_count": null,
   "metadata": {},
   "outputs": [],
   "source": [
    "# Retrieve the first 5 EOFs, expressed as the correlation between the leading\n",
    "# PC time series and the input sea level anomalies at each grid point, and the\n",
    "# leading PC time series itself.\n",
    "eof1 = solver.eofs(neofs=5)\n",
    "pc1 = solver.pcs(npcs=2, pcscaling=1)\n",
    "eof_frac=solver.varianceFraction()\n",
    "eof_frac"
   ]
  },
  {
   "cell_type": "code",
   "execution_count": null,
   "metadata": {},
   "outputs": [],
   "source": [
    "eof1[0].plot()"
   ]
  },
  {
   "cell_type": "code",
   "execution_count": null,
   "metadata": {},
   "outputs": [],
   "source": [
    "# Plot the leading EOF expressed as correlation in the EAC domain.\n",
    "import matplotlib.ticker as mticker\n",
    "\n",
    "coast = cfeature.NaturalEarthFeature(category='physical', scale='10m',\n",
    "                            facecolor='none', name='coastline')\n",
    "\n",
    "clevs = np.linspace(-.1, .1, 11)\n",
    "\n",
    "fig = plt.figure(figsize=(14,10))\n",
    "#ax = plt.subplot(1,3,1,projection=ccrs.PlateCarree())\n",
    "grid = plt.GridSpec(2, 3, wspace=0.1, hspace=0.7)\n",
    "ax = plt.subplot(grid[0, :1],projection=ccrs.PlateCarree())\n",
    "feature = ax.add_feature(coast, edgecolor='black',facecolor='gray')\n",
    "fill = eof1[0].plot.contourf('lon_rho', 'lat_rho',ax=ax, cmap=plt.cm.RdBu_r,\n",
    "                             add_colorbar=False,\n",
    "                             transform=ccrs.PlateCarree())\n",
    "ax.set_extent([149, 160, -40, -28])\n",
    "gl = ax.gridlines(draw_labels=True,\n",
    "             color='black', alpha=0.2, linestyle='--')\n",
    "gl.xlocator = mticker.FixedLocator([149,150,152,154,156])\n",
    "gl.xformatter = LONGITUDE_FORMATTER\n",
    "gl.yformatter = LATITUDE_FORMATTER\n",
    "gl.ylabels_right = False\n",
    "gl.xlabels_top = False\n",
    "\n",
    "#ax = plt.subplot(1,3,2,projection=ccrs.PlateCarree())\n",
    "ax = plt.subplot(grid[0, 1:2],projection=ccrs.PlateCarree())\n",
    "feature = ax.add_feature(coast, edgecolor='black',facecolor='gray')\n",
    "fill = eof1[1].plot.contourf('lon_rho', 'lat_rho',ax=ax, cmap=plt.cm.RdBu_r,\n",
    "                             add_colorbar=False,\n",
    "                             transform=ccrs.PlateCarree())\n",
    "ax.set_extent([149, 160, -40, -28])\n",
    "gl = ax.gridlines(draw_labels=True,\n",
    "             color='black', alpha=0.2, linestyle='--')\n",
    "gl.xformatter = LONGITUDE_FORMATTER\n",
    "gl.yformatter = LATITUDE_FORMATTER\n",
    "gl.xlocator = mticker.FixedLocator([149,150,152,154,156])\n",
    "gl.ylabels_right = False\n",
    "gl.xlabels_top = False\n",
    "\n",
    "#ax = plt.subplot(1,3,3,projection=ccrs.PlateCarree())\n",
    "ax = plt.subplot(grid[0, 2:3],projection=ccrs.PlateCarree())\n",
    "\n",
    "feature = ax.add_feature(coast, edgecolor='black',facecolor='gray')\n",
    "fill = eof1[2].plot.contourf('lon_rho', 'lat_rho',ax=ax, cmap=plt.cm.RdBu_r,\n",
    "                             add_colorbar=False,\n",
    "                             transform=ccrs.PlateCarree())\n",
    "ax.set_extent([149, 160, -40, -28])\n",
    "gl = ax.gridlines(draw_labels=True,\n",
    "             color='black', alpha=0.2, linestyle='--')\n",
    "gl.xlocator = mticker.FixedLocator([149,150,152,154,156])\n",
    "gl.xformatter = LONGITUDE_FORMATTER\n",
    "gl.yformatter = LATITUDE_FORMATTER\n",
    "gl.ylabels_right = False\n",
    "gl.xlabels_top = False\n",
    "\n",
    "cbar_ax = fig.add_axes([0.21, .485, .6, .02]) #left, bottom, width, height\n",
    "fig.colorbar(fill, cax=cbar_ax, orientation=\"horizontal\",extend='both')\n",
    "plt.xlabel('Sea surface height [m]')\n",
    "\n",
    "# Plot the leading PC time series.\n",
    "#plt.figure(figsize=(14,3))\n",
    "ax = plt.subplot(grid[1,:])\n",
    "pc1[:, 0].plot(color='royalblue', linewidth=2)\n",
    "#ax = plt.gca()\n",
    "ax.axhline(0, color='k')\n",
    "ax.set_ylim(-3, 3)\n",
    "ax.set_xlabel('Year')\n",
    "ax.set_ylabel('Normalized Units')\n",
    "ax.set_title('PC1 Time Series', fontsize=16)\n",
    "plt.grid(True)\n",
    "plt.savefig('ROMS_SSH_EOF1_3.png', dpi=300,bbox_inches='tight')\n",
    "plt.show()"
   ]
  },
  {
   "cell_type": "markdown",
   "metadata": {},
   "source": [
    "## Calculate and extract transport across isobath"
   ]
  },
  {
   "cell_type": "code",
   "execution_count": 5,
   "metadata": {},
   "outputs": [
    {
     "ename": "NameError",
     "evalue": "name 'array' is not defined",
     "output_type": "error",
     "traceback": [
      "\u001b[0;31m---------------------------------------------------------------------------\u001b[0m",
      "\u001b[0;31mNameError\u001b[0m                                 Traceback (most recent call last)",
      "\u001b[0;32m<ipython-input-5-09ce42c4ebf5>\u001b[0m in \u001b[0;36m<module>\u001b[0;34m\u001b[0m\n\u001b[1;32m      1\u001b[0m \u001b[0;32mimport\u001b[0m \u001b[0mdask\u001b[0m \u001b[0;32mas\u001b[0m \u001b[0mdask\u001b[0m\u001b[0;34m\u001b[0m\u001b[0;34m\u001b[0m\u001b[0m\n\u001b[0;32m----> 2\u001b[0;31m \u001b[0;32mwith\u001b[0m \u001b[0mdask\u001b[0m\u001b[0;34m.\u001b[0m\u001b[0mconfig\u001b[0m\u001b[0;34m.\u001b[0m\u001b[0mset\u001b[0m\u001b[0;34m(\u001b[0m\u001b[0;34m**\u001b[0m\u001b[0;34m{\u001b[0m\u001b[0;34m'array.slicing.split_large_chunks'\u001b[0m\u001b[0;34m:\u001b[0m \u001b[0;32mTrue\u001b[0m\u001b[0;34m}\u001b[0m\u001b[0;34m)\u001b[0m\u001b[0;34m:\u001b[0m\u001b[0marray\u001b[0m\u001b[0;34m[\u001b[0m\u001b[0mindexer\u001b[0m\u001b[0;34m]\u001b[0m\u001b[0;34m\u001b[0m\u001b[0;34m\u001b[0m\u001b[0m\n\u001b[0m\u001b[1;32m      3\u001b[0m \u001b[0;32mreturn\u001b[0m \u001b[0mself\u001b[0m\u001b[0;34m.\u001b[0m\u001b[0marray\u001b[0m\u001b[0;34m[\u001b[0m\u001b[0mkey\u001b[0m\u001b[0;34m]\u001b[0m\u001b[0;34m\u001b[0m\u001b[0;34m\u001b[0m\u001b[0m\n\u001b[1;32m      4\u001b[0m \u001b[0;31m#calculate transport\u001b[0m\u001b[0;34m\u001b[0m\u001b[0;34m\u001b[0m\u001b[0;34m\u001b[0m\u001b[0m\n\u001b[1;32m      5\u001b[0m \u001b[0mU_x200\u001b[0m \u001b[0;34m=\u001b[0m \u001b[0;34m(\u001b[0m\u001b[0;34m(\u001b[0m\u001b[0mds\u001b[0m\u001b[0;34m.\u001b[0m\u001b[0mubar\u001b[0m\u001b[0;34m.\u001b[0m\u001b[0mxroms\u001b[0m\u001b[0;34m.\u001b[0m\u001b[0mto_grid\u001b[0m\u001b[0;34m(\u001b[0m\u001b[0mhcoord\u001b[0m\u001b[0;34m=\u001b[0m\u001b[0;34m'rho'\u001b[0m\u001b[0;34m)\u001b[0m\u001b[0;34m)\u001b[0m\u001b[0;34m.\u001b[0m\u001b[0mwhere\u001b[0m\u001b[0;34m(\u001b[0m\u001b[0mds\u001b[0m\u001b[0;34m.\u001b[0m\u001b[0mh\u001b[0m\u001b[0;34m<\u001b[0m\u001b[0;36m200\u001b[0m\u001b[0;34m,\u001b[0m \u001b[0mdrop\u001b[0m\u001b[0;34m=\u001b[0m\u001b[0;32mTrue\u001b[0m\u001b[0;34m)\u001b[0m\u001b[0;34m)\u001b[0m\u001b[0;34m*\u001b[0m\u001b[0mds\u001b[0m\u001b[0;34m.\u001b[0m\u001b[0mdy\u001b[0m\u001b[0;34m*\u001b[0m\u001b[0mds\u001b[0m\u001b[0;34m.\u001b[0m\u001b[0mh\u001b[0m\u001b[0;34m\u001b[0m\u001b[0;34m\u001b[0m\u001b[0m\n",
      "\u001b[0;31mNameError\u001b[0m: name 'array' is not defined"
     ]
    }
   ],
   "source": [
    "import dask as dask\n",
    "with dask.config.set(**{'array.slicing.split_large_chunks': True}):array[indexer]\n",
    "return self.array[key]\n",
    "#calculate transport\n",
    "U_x200 = ((ds.ubar.xroms.to_grid(hcoord='rho')).where(ds.h<200, drop=True))*ds.dy*ds.h\n",
    "U_x200 = U_x200.coarsen(eta_rho=23,boundary='trim').mean()"
   ]
  },
  {
   "cell_type": "code",
   "execution_count": null,
   "metadata": {},
   "outputs": [],
   "source": [
    "U_x200.cf.isel(T=0).plot()"
   ]
  },
  {
   "cell_type": "code",
   "execution_count": null,
   "metadata": {},
   "outputs": [],
   "source": [
    "# fill the NaNs with the last value to make it easy to grab the 200m value with a single index\n",
    "U_x200 = (U_x200.ffill(dim='xi_rho')).isel(xi_rho=102)"
   ]
  },
  {
   "cell_type": "code",
   "execution_count": null,
   "metadata": {},
   "outputs": [],
   "source": [
    "U_x200.drop_vars(['xi_rho','lon_rho','eta_rho']).load()"
   ]
  },
  {
   "cell_type": "code",
   "execution_count": null,
   "metadata": {},
   "outputs": [],
   "source": [
    "df = U_x200.to_dataframe(name='Transport')\n",
    "df['lat_rho'] = df['lat_rho'].round(decimals=1) # round off the decimals of lat_rho to make it easier to read"
   ]
  },
  {
   "cell_type": "code",
   "execution_count": null,
   "metadata": {},
   "outputs": [],
   "source": [
    "fig = plt.figure(figsize=(12,7))\n",
    "\n",
    "#set coastline\n",
    "coast = cfeature.NaturalEarthFeature(category='physical', scale='10m',\n",
    "                            facecolor='none', name='coastline')\n",
    "\n",
    "#plot\n",
    "ax = plt.subplot(1,2,1,projection=ccrs.PlateCarree())\n",
    "feature = ax.add_feature(coast, edgecolor='black',facecolor='gray')\n",
    "ax.set_extent([148,156,-27,-39])\n",
    "ds.temp[:,-1,:,:].cf.mean(dim='time').plot.contourf('lon_rho', 'lat_rho',levels=12,cbar_kwargs={'label': 'SST [ $^o$C ]'},\n",
    "                                        extend = 'both',cmap=cmocean.cm.thermal)\n",
    "\n",
    "#make pretty gridlines and labels\n",
    "gl = ax.gridlines(draw_labels=True,\n",
    "             color='black', alpha=0.2, linestyle='--')\n",
    "gl.xformatter = LONGITUDE_FORMATTER\n",
    "gl.yformatter = LATITUDE_FORMATTER\n",
    "gl.ylabels_right = False\n",
    "gl.xlabels_top = False\n",
    "\n",
    "#add geostrophic current arrows\n",
    "# X,Y = np.meshgrid(ds.lon_rho,ds.lat_rho)\n",
    "# u = ds.u.cf.mean(dim='time')\n",
    "# v = ds.v.cf.mean(dim='time')\n",
    "# q = plt.quiver(X,Y,u,v,angles='xy',scale=15,color='k',transform=ccrs.PlateCarree())\n",
    "\n",
    "plt.subplot(1,2,2)\n",
    "# ax = sns.violinplot(x=\"Transport\", y=\"lat_rho\", orient ='h',\n",
    "#                     data=df,scale=\"width\", palette=\"Set3\")\n",
    "# ax.invert_yaxis()\n",
    "\n",
    "ax = sns.barplot(x=\"Transport\", y=\"lat_rho\", orient ='h',\n",
    "                    data=df, palette=\"Set3\")\n",
    "ax.invert_yaxis()\n",
    "\n",
    "plt.savefig('crossshelf_200_transport_bar.png',dpi=300)"
   ]
  },
  {
   "cell_type": "code",
   "execution_count": null,
   "metadata": {},
   "outputs": [],
   "source": [
    "ax = sns.barplot(x=\"Transport\", y=\"lat_rho\", orient ='h',\n",
    "                    data=df, palette=\"Set3\")\n",
    "ax.invert_yaxis()"
   ]
  },
  {
   "cell_type": "code",
   "execution_count": null,
   "metadata": {},
   "outputs": [],
   "source": [
    "#calculate transport\n",
    "U_x200 = ((ds.ubar.xroms.to_grid(hcoord='rho')).where(ds.h<1000, drop=True))*ds.dy*ds.h\n",
    "U_x200 = U_x200.coarsen(eta_rho=23,boundary='trim').mean()"
   ]
  },
  {
   "cell_type": "code",
   "execution_count": null,
   "metadata": {},
   "outputs": [],
   "source": [
    "# fill the NaNs with the last value to make it easy to grab the 200m value with a single index\n",
    "U_x200 = (U_x200.ffill(dim='xi_rho')).isel(xi_rho=102)"
   ]
  },
  {
   "cell_type": "code",
   "execution_count": null,
   "metadata": {},
   "outputs": [],
   "source": [
    "U_x200.drop_vars(['xi_rho','lon_rho','eta_rho']).load()"
   ]
  },
  {
   "cell_type": "code",
   "execution_count": null,
   "metadata": {},
   "outputs": [],
   "source": [
    "df = U_x200.to_dataframe(name='Transport')\n",
    "df['lat_rho'] = df['lat_rho'].round(decimals=1) # round off the decimals of lat_rho to make it easier to read"
   ]
  },
  {
   "cell_type": "code",
   "execution_count": null,
   "metadata": {},
   "outputs": [],
   "source": [
    "fig = plt.figure(figsize=(12,7))\n",
    "\n",
    "#set coastline\n",
    "coast = cfeature.NaturalEarthFeature(category='physical', scale='10m',\n",
    "                            facecolor='none', name='coastline')\n",
    "\n",
    "#plot\n",
    "ax = plt.subplot(1,2,1,projection=ccrs.PlateCarree())\n",
    "feature = ax.add_feature(coast, edgecolor='black',facecolor='gray')\n",
    "ax.set_extent([148,156,-27,-39])\n",
    "ds.temp[:,-1,:,:].cf.mean(dim='time').plot.contourf('lon_rho', 'lat_rho',levels=12,cbar_kwargs={'label': 'SST [ $^o$C ]'},\n",
    "                                        extend = 'both',cmap=cmocean.cm.thermal)\n",
    "\n",
    "#make pretty gridlines and labels\n",
    "gl = ax.gridlines(draw_labels=True,\n",
    "             color='black', alpha=0.2, linestyle='--')\n",
    "gl.xformatter = LONGITUDE_FORMATTER\n",
    "gl.yformatter = LATITUDE_FORMATTER\n",
    "gl.ylabels_right = False\n",
    "gl.xlabels_top = False\n",
    "\n",
    "#add geostrophic current arrows\n",
    "# X,Y = np.meshgrid(ds.lon_rho,ds.lat_rho)\n",
    "# u = ds.u.cf.mean(dim='time')\n",
    "# v = ds.v.cf.mean(dim='time')\n",
    "# q = plt.quiver(X,Y,u,v,angles='xy',scale=15,color='k',transform=ccrs.PlateCarree())\n",
    "\n",
    "plt.subplot(1,2,2)\n",
    "# ax = sns.violinplot(x=\"Transport\", y=\"lat_rho\", orient ='h',\n",
    "#                     data=df,scale=\"width\", palette=\"Set3\")\n",
    "# ax.invert_yaxis()\n",
    "\n",
    "ax = sns.barplot(x=\"Transport\", y=\"lat_rho\", orient ='h',\n",
    "                    data=df, palette=\"Set3\")\n",
    "ax.invert_yaxis()\n",
    "\n",
    "plt.savefig('crossshelf_1000_transport_bar.png',dpi=300)"
   ]
  },
  {
   "cell_type": "code",
   "execution_count": null,
   "metadata": {},
   "outputs": [],
   "source": []
  }
 ],
 "metadata": {
  "kernelspec": {
   "display_name": "Python 3",
   "language": "python",
   "name": "python3"
  },
  "language_info": {
   "codemirror_mode": {
    "name": "ipython",
    "version": 3
   },
   "file_extension": ".py",
   "mimetype": "text/x-python",
   "name": "python",
   "nbconvert_exporter": "python",
   "pygments_lexer": "ipython3",
   "version": "3.7.8"
  }
 },
 "nbformat": 4,
 "nbformat_minor": 4
}
